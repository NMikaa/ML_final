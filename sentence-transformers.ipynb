{
 "metadata": {
  "kernelspec": {
   "language": "python",
   "display_name": "Python 3",
   "name": "python3"
  },
  "language_info": {
   "name": "python",
   "version": "3.10.13",
   "mimetype": "text/x-python",
   "codemirror_mode": {
    "name": "ipython",
    "version": 3
   },
   "pygments_lexer": "ipython3",
   "nbconvert_exporter": "python",
   "file_extension": ".py"
  },
  "kaggle": {
   "accelerator": "gpu",
   "dataSources": [
    {
     "sourceId": 9141097,
     "sourceType": "datasetVersion",
     "datasetId": 5520885
    }
   ],
   "dockerImageVersionId": 30747,
   "isInternetEnabled": true,
   "language": "python",
   "sourceType": "notebook",
   "isGpuEnabled": true
  }
 },
 "nbformat_minor": 4,
 "nbformat": 4,
 "cells": [
  {
   "cell_type": "markdown",
   "source": [
    "# აქ ჩამოვალოადებ სენთენს ტრანსფორმერს და მაგას გავტესტავ"
   ],
   "metadata": {}
  },
  {
   "cell_type": "code",
   "source": [
    "import pandas as pd\n",
    "from sentence_transformers import SentenceTransformer\n",
    "\n",
    "# Load the pre-trained model\n",
    "model = SentenceTransformer('all-MiniLM-L6-v2')\n",
    "\n",
    "\n",
    "df = pd.read_csv('/kaggle/input/ml-data/data_for_training.csv')\n",
    "\n",
    "# Function to generate embeddings\n",
    "def generate_embeddings(texts):\n",
    "    return model.encode(texts)\n",
    "\n",
    "# Generate embeddings for the 'Text' column\n",
    "embeddings = generate_embeddings(df['Text'].tolist())\n"
   ],
   "metadata": {
    "_uuid": "8f2839f25d086af736a60e9eeb907d3b93b6e0e5",
    "_cell_guid": "b1076dfc-b9ad-4769-8c92-a6c4dae69d19",
    "execution": {
     "iopub.status.busy": "2024-08-09T13:42:00.801995Z",
     "iopub.execute_input": "2024-08-09T13:42:00.802719Z",
     "iopub.status.idle": "2024-08-09T13:42:35.756483Z",
     "shell.execute_reply.started": "2024-08-09T13:42:00.802685Z",
     "shell.execute_reply": "2024-08-09T13:42:35.755676Z"
    },
    "trusted": true
   },
   "execution_count": 4,
   "outputs": [
    {
     "output_type": "display_data",
     "data": {
      "text/plain": "Batches:   0%|          | 0/383 [00:00<?, ?it/s]",
      "application/vnd.jupyter.widget-view+json": {
       "version_major": 2,
       "version_minor": 0,
       "model_id": "f5f5d6aa8ace40bf88b2208c3d43eb5d"
      }
     },
     "metadata": {}
    }
   ]
  },
  {
   "cell_type": "markdown",
   "source": [
    "# ახლა კი გადავატაროთ სხვადასხვა კლასიფიკაციის მეთოდები\n"
   ],
   "metadata": {}
  },
  {
   "cell_type": "code",
   "source": [
    "import torch\n",
    "import numpy as np\n",
    "import pandas as pd\n",
    "from sklearn.model_selection import train_test_split\n",
    "from sklearn.preprocessing import LabelEncoder\n",
    "from sklearn.neighbors import KNeighborsClassifier\n",
    "from sklearn.linear_model import LogisticRegression\n",
    "from sklearn.ensemble import RandomForestClassifier\n",
    "from sklearn.svm import SVC\n",
    "from sklearn.metrics import accuracy_score\n",
    "from tqdm.notebook import tqdm\n",
    "tqdm.pandas()\n",
    "\n",
    "\n",
    "X = np.array(embeddings)\n",
    "\n",
    "# Encode categories\n",
    "le = LabelEncoder()\n",
    "y = le.fit_transform(df['Category'])\n",
    "\n",
    "# Split the data\n",
    "X_train, X_test, y_train, y_test = train_test_split(X, y, test_size=0.2, random_state=42)\n",
    "\n",
    "# Define models\n",
    "models = {\n",
    "    'KNN': KNeighborsClassifier(),\n",
    "    'LogisticRegression': LogisticRegression(max_iter=1000),\n",
    "    'RandomForest': RandomForestClassifier(),\n",
    "    'SVM': SVC()\n",
    "}\n",
    "\n",
    "accuracy_scores = {}\n",
    "\n",
    "# Train and evaluate each model\n",
    "for model_name, model in models.items():\n",
    "    print(f\"Training and evaluating {model_name}...\")\n",
    "    \n",
    "    # Train the model\n",
    "    model.fit(X_train, y_train)\n",
    "\n",
    "    # Predict on the test set\n",
    "    y_pred = model.predict(X_test)\n",
    "\n",
    "    # Calculate accuracy\n",
    "    accuracy = accuracy_score(y_test, y_pred)\n",
    "    accuracy_scores[model_name] = accuracy\n",
    "\n",
    "    # Print the accuracy\n",
    "    print(f'Accuracy of {model_name} on test set: {accuracy:.2f}')\n",
    "\n",
    "# Print overall results\n",
    "print(\"\\nOverall Results:\")\n",
    "for model_name, accuracy in accuracy_scores.items():\n",
    "    print(f'{model_name}: {accuracy:.2f}')\n",
    "\n",
    "# Find the best model\n",
    "best_model = max(accuracy_scores, key=accuracy_scores.get)\n",
    "print(f\"\\nBest model: {best_model} with accuracy {accuracy_scores[best_model]:.2f}\")"
   ],
   "metadata": {
    "execution": {
     "iopub.status.busy": "2024-08-09T13:43:04.603267Z",
     "iopub.execute_input": "2024-08-09T13:43:04.603878Z",
     "iopub.status.idle": "2024-08-09T13:44:03.260678Z",
     "shell.execute_reply.started": "2024-08-09T13:43:04.603848Z",
     "shell.execute_reply": "2024-08-09T13:44:03.259487Z"
    },
    "trusted": true
   },
   "execution_count": 6,
   "outputs": [
    {
     "name": "stdout",
     "text": "Training and evaluating KNN...\nAccuracy of KNN on test set: 0.67\nTraining and evaluating LogisticRegression...\nAccuracy of LogisticRegression on test set: 0.71\nTraining and evaluating RandomForest...\nAccuracy of RandomForest on test set: 0.68\nTraining and evaluating SVM...\nAccuracy of SVM on test set: 0.73\n\nOverall Results:\nKNN: 0.67\nLogisticRegression: 0.71\nRandomForest: 0.68\nSVM: 0.73\n\nBest model: SVM with accuracy 0.73\n",
     "output_type": "stream"
    }
   ]
  },
  {
   "cell_type": "markdown",
   "source": [
    "- იმის კვალობაზე, რომ საკმაოდ პატარა მოდელია, ნამდვილად კარგი შედეგი დადო."
   ],
   "metadata": {}
  }
 ]
}
