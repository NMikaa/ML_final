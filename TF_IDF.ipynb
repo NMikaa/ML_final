{
 "nbformat": 4,
 "nbformat_minor": 0,
 "metadata": {
  "colab": {
   "provenance": []
  },
  "kernelspec": {
   "name": "python3",
   "display_name": "Python 3"
  },
  "language_info": {
   "name": "python"
  }
 },
 "cells": [
  {
   "cell_type": "code",
   "execution_count": 1,
   "metadata": {
    "id": "PmS_9IPdpCnO"
   },
   "outputs": [],
   "source": [
    "import pandas as pd\n",
    "from collections import Counter\n",
    "from scipy.sparse import csr_matrix\n",
    "import math\n",
    "from tqdm import tqdm\n",
    "from sklearn.preprocessing import normalize\n",
    "import numpy as np\n",
    "from sklearn.preprocessing import LabelEncoder\n",
    "from sklearn.model_selection import train_test_split\n",
    "from sklearn.feature_extraction.text import TfidfVectorizer\n",
    "from sklearn.neighbors import KNeighborsClassifier\n",
    "from sklearn.metrics import accuracy_score\n",
    "from sklearn.decomposition import TruncatedSVD\n",
    "from sklearn.linear_model import LogisticRegression\n",
    "from sklearn.ensemble import RandomForestClassifier\n",
    "from sklearn.svm import SVC\n",
    "\n"
   ]
  },
  {
   "cell_type": "code",
   "execution_count": 2,
   "outputs": [],
   "source": [
    "# df = pd.read_csv('/content/drive/MyDrive/ML DATA/finalized_data.csv')\n",
    "df = pd.read_csv('data_for_training.csv')"
   ],
   "metadata": {
    "collapsed": false
   }
  },
  {
   "cell_type": "code",
   "source": [
    "class TFIDFVectorizer:\n",
    "    def __init__(self):\n",
    "        self.vocab = {}\n",
    "        self.idfs = {}\n",
    "\n",
    "    def _idf(self, corpus, unique_words):\n",
    "        idf_vals = {}\n",
    "        total_docs = len(corpus)\n",
    "        for word in tqdm(unique_words):\n",
    "            cnt = 0\n",
    "            for row in corpus:\n",
    "                if word in row.split(\" \"):\n",
    "                    cnt += 1\n",
    "            idf_vals[word] = 1 + math.log((1 + total_docs) / (1 + cnt))\n",
    "        return idf_vals\n",
    "\n",
    "    def fit(self, dataset):\n",
    "        if isinstance(dataset, (list,)):\n",
    "            unique_words = set()\n",
    "            for row in tqdm(dataset):\n",
    "                for word in row.split(\" \"):\n",
    "                    if len(word) < 2:\n",
    "                        continue\n",
    "                    unique_words.add(word)\n",
    "            unique_words = sorted(list(unique_words))\n",
    "            self.vocab = {j: i for i, j in enumerate(unique_words)}\n",
    "            self.idfs = self._idf(dataset, unique_words)\n",
    "        return self\n",
    "\n",
    "    def transform(self, dataset):\n",
    "        rows, cols, data = [], [], []\n",
    "        for idx, row in tqdm(enumerate(dataset), total = len(dataset)):\n",
    "            word_count = Counter(row.split(' '))\n",
    "            for word, count in word_count.items():\n",
    "                if word in self.vocab:\n",
    "                    tf = count / len(row.split(' '))\n",
    "                    tfidf = tf * self.idfs[word]\n",
    "                    rows.append(idx)\n",
    "                    cols.append(self.vocab[word])\n",
    "                    data.append(tfidf)\n",
    "        sparse_matrix = csr_matrix((data, (rows, cols)), shape=(len(dataset), len(self.vocab)))\n",
    "        return normalize(sparse_matrix, norm='l2', axis=1, copy=True)\n",
    "\n",
    "    def fit_transform(self, dataset):\n",
    "        self.fit(dataset)\n",
    "        return self.transform(dataset)"
   ],
   "metadata": {
    "id": "esR1P7GXJL2A"
   },
   "execution_count": 3,
   "outputs": []
  },
  {
   "cell_type": "code",
   "source": [
    "df.info()"
   ],
   "metadata": {
    "colab": {
     "base_uri": "https://localhost:8080/"
    },
    "id": "ZKOfcBlJp2We",
    "outputId": "6bf889e4-a8ad-4d76-e444-617eb5876704"
   },
   "execution_count": 4,
   "outputs": [
    {
     "name": "stdout",
     "output_type": "stream",
     "text": [
      "<class 'pandas.core.frame.DataFrame'>\n",
      "RangeIndex: 12231 entries, 0 to 12230\n",
      "Data columns (total 2 columns):\n",
      " #   Column    Non-Null Count  Dtype \n",
      "---  ------    --------------  ----- \n",
      " 0   Category  12231 non-null  object\n",
      " 1   Text      12231 non-null  object\n",
      "dtypes: object(2)\n",
      "memory usage: 191.2+ KB\n"
     ]
    }
   ]
  },
  {
   "cell_type": "markdown",
   "source": [
    "# სამწუხაროდ ჩემი დაწერილი TF-IDF დიდ კორპუსზე ძალიან ნელა მუშაობს, ამიტომ მიწევს sklearn-ის გამოყენება :("
   ],
   "metadata": {
    "id": "7HpJVNa2JP6w"
   }
  },
  {
   "cell_type": "code",
   "source": [
    "tfidf = TfidfVectorizer( norm=None)\n",
    "tfidf.fit(df[\"Text\"])\n",
    "weights = tfidf.transform(df[\"Text\"])\n"
   ],
   "metadata": {
    "id": "bqWveNv2qUfy"
   },
   "execution_count": 5,
   "outputs": []
  },
  {
   "cell_type": "code",
   "source": [
    "le = LabelEncoder()\n",
    "le.fit(df[\"Category\"])\n",
    "df[\"Category\"] = le.transform(df[\"Category\"])"
   ],
   "metadata": {
    "id": "qMlV_m0gqjJh"
   },
   "execution_count": 6,
   "outputs": []
  },
  {
   "cell_type": "code",
   "source": [
    "df[\"Category\"].unique()\n"
   ],
   "metadata": {
    "colab": {
     "base_uri": "https://localhost:8080/"
    },
    "id": "hRzGoMv9sHEc",
    "outputId": "3db211cc-ad23-4de9-ced3-a2573000e949"
   },
   "execution_count": 7,
   "outputs": [
    {
     "data": {
      "text/plain": "array([ 0,  1,  2,  3,  4,  5,  7,  8, 10, 11,  9, 12, 13, 14, 15, 16, 17,\n       18, 19, 21, 22, 24, 25, 23, 26, 27, 30, 32, 33, 34, 35, 36, 37, 38,\n       39, 40, 41, 42, 45, 43, 44, 46, 47, 28, 31,  6, 20, 29])"
     },
     "execution_count": 7,
     "metadata": {},
     "output_type": "execute_result"
    }
   ]
  },
  {
   "cell_type": "markdown",
   "source": [
    "ახლა, ამ სეტაპით მინდა განვიხილო რამდენიმე მოდელი:\n",
    "\n",
    "1.   **KNN**\n",
    "\n",
    "2.   **logistic regression**\n",
    "\n",
    "3.   **SVM**\n",
    "\n",
    "4.   **Random Forest Regression**\n",
    "\n"
   ],
   "metadata": {
    "id": "Es26W_fbKoNj"
   }
  },
  {
   "cell_type": "code",
   "source": [
    "weights[0].shape"
   ],
   "metadata": {
    "colab": {
     "base_uri": "https://localhost:8080/"
    },
    "id": "s9qcGbH6dkLd",
    "outputId": "96942e9f-2866-4b03-8319-339bf2a8c334"
   },
   "execution_count": 8,
   "outputs": [
    {
     "data": {
      "text/plain": "(1, 118697)"
     },
     "execution_count": 8,
     "metadata": {},
     "output_type": "execute_result"
    }
   ]
  },
  {
   "cell_type": "markdown",
   "source": [
    "ერთ-ერთი რამ, რაც უნდა გვექნა აქამდე და არ ვქენით, არის weight-ების dimension-ის ცვლილება. ერთ-ერთი ამის ვარიანტი არის SVD ფაქტორიზაცია."
   ],
   "metadata": {
    "id": "_cMlxJLVd7SK"
   }
  },
  {
   "cell_type": "code",
   "source": [
    "svd = TruncatedSVD(n_components=1200, random_state=42)\n",
    "reduced_weights = svd.fit_transform(weights)"
   ],
   "metadata": {
    "id": "f6C67pHvdUdH"
   },
   "execution_count": 9,
   "outputs": []
  },
  {
   "cell_type": "code",
   "source": [
    "X_train, X_test, y_train, y_test = train_test_split(reduced_weights, df[\"Category\"], test_size=0.1, random_state=42)"
   ],
   "metadata": {
    "colab": {
     "base_uri": "https://localhost:8080/"
    },
    "collapsed": true,
    "id": "VuLb4tRPeQG7",
    "outputId": "29b73c99-ec67-467d-b0e7-88ebcff9e1f9"
   },
   "execution_count": 10,
   "outputs": []
  },
  {
   "cell_type": "code",
   "source": [
    "models = {\n",
    "    'KNN': KNeighborsClassifier(),\n",
    "    'LogisticRegression': LogisticRegression(max_iter=50),\n",
    "    'RandomForest': RandomForestClassifier(),\n",
    "    'SVM': SVC()\n",
    "\n",
    "}\n",
    "accuracy_scores = {}\n",
    "# Train and evaluate each model\n",
    "for model_name, model in models.items():\n",
    "    # Train the model\n",
    "    model.fit(X_train, y_train)\n",
    "\n",
    "    # Predict on the test set\n",
    "    y_pred = model.predict(X_test)\n",
    "\n",
    "    # Calculate accuracy\n",
    "    accuracy = accuracy_score(y_test, y_pred)\n",
    "    accuracy_scores[model_name] = accuracy\n",
    "\n",
    "    # Print the accuracy\n",
    "    print(f'Accuracy of {model_name} on test set: {accuracy:.2f}')\n"
   ],
   "metadata": {
    "colab": {
     "base_uri": "https://localhost:8080/"
    },
    "id": "JFlXyq2je3WH",
    "outputId": "2fffca65-ae7f-4747-9b2e-d031f44b031a"
   },
   "execution_count": 11,
   "outputs": [
    {
     "name": "stderr",
     "output_type": "stream",
     "text": [
      "C:\\anacondaPY3\\lib\\site-packages\\sklearn\\neighbors\\_classification.py:228: FutureWarning: Unlike other reduction functions (e.g. `skew`, `kurtosis`), the default behavior of `mode` typically preserves the axis it acts along. In SciPy 1.11.0, this behavior will change: the default value of `keepdims` will become False, the `axis` over which the statistic is taken will be eliminated, and the value None will no longer be accepted. Set `keepdims` to True or False to avoid this warning.\n",
      "  mode, _ = stats.mode(_y[neigh_ind, k], axis=1)\n"
     ]
    },
    {
     "name": "stdout",
     "output_type": "stream",
     "text": [
      "Accuracy of KNN on test set: 0.68\n"
     ]
    },
    {
     "name": "stderr",
     "output_type": "stream",
     "text": [
      "C:\\anacondaPY3\\lib\\site-packages\\sklearn\\linear_model\\_logistic.py:814: ConvergenceWarning: lbfgs failed to converge (status=1):\n",
      "STOP: TOTAL NO. of ITERATIONS REACHED LIMIT.\n",
      "\n",
      "Increase the number of iterations (max_iter) or scale the data as shown in:\n",
      "    https://scikit-learn.org/stable/modules/preprocessing.html\n",
      "Please also refer to the documentation for alternative solver options:\n",
      "    https://scikit-learn.org/stable/modules/linear_model.html#logistic-regression\n",
      "  n_iter_i = _check_optimize_result(\n"
     ]
    },
    {
     "name": "stdout",
     "output_type": "stream",
     "text": [
      "Accuracy of LogisticRegression on test set: 0.78\n",
      "Accuracy of RandomForest on test set: 0.73\n",
      "Accuracy of SVM on test set: 0.75\n"
     ]
    }
   ]
  },
  {
   "cell_type": "markdown",
   "source": [
    "ეს სივი არის დაგენერირებული ჯიპიტის მიერ. არანაირი ინსტრუქცია, არანაირი დატის წმენდა არ ჩამიტარებია, არაფერი არ მითქვამს გარდა იმისა, რომ ფიტნეს ინსტრუქტორის სივი დაეგენერირებინა."
   ],
   "metadata": {
    "id": "62VojLKPoYKY"
   }
  },
  {
   "cell_type": "code",
   "source": [
    "cv_text = \"\"\"John Doe\n",
    "123 Fitness Ave\n",
    "Gym City, GA 30303\n",
    "(555) 123-4567\n",
    "johndoe@example.com\n",
    "LinkedIn: linkedin.com/in/johndoe-fitness\n",
    "Objective\n",
    "Dynamic and certified Health and Fitness Instructor with over 5 years of experience specializing in creating personalized workout programs and conducting high-energy group fitness classes. Dedicated to helping clients achieve their health and fitness goals through tailored exercise routines and comprehensive nutritional guidance.\n",
    "Certifications\n",
    "Certified Personal Trainer, American Council on Exercise (ACE), 2018\n",
    "Group Fitness Instructor, National Academy of Sports Medicine (NASM), 2019\n",
    "CPR and First Aid, American Red Cross, 2020\n",
    "Yoga Instructor, 200-Hour RYT, Yoga Alliance, 2017\n",
    "Professional Experience\n",
    "Health and Fitness Instructor\n",
    "Gold's Gym, Atlanta, GA\n",
    "June 2020 – Present\n",
    "Design and implement customized fitness programs for over 100 regular clients, increasing their fitness performance by an average of 25%.\n",
    "Lead weekly group fitness classes, including Spin, HIIT, and Yoga, with an average attendance of 30 participants per class.\n",
    "Conduct bi-weekly workshops on nutrition and wellness that have improved client retention by 20%.\n",
    "Utilize motivational interviewing techniques to encourage client commitment and achieve a 95% success rate in client goal attainment.\n",
    "Fitness Coach\n",
    "Anytime Fitness, Atlanta, GA\n",
    "May 2015 – May 2020\n",
    "Spearheaded a successful bootcamp program that grew to include 50 regular participants.\n",
    "Collaborated with physical therapists to design rehabilitation exercises that safely engaged clients in physical activity post-injury.\n",
    "Increased gym membership by organizing monthly health and wellness fairs that attracted over 200 attendees.\n",
    "Education\n",
    "Bachelor of Science in Exercise Science\n",
    "Georgia State University, Atlanta, GA\n",
    "August 2011 – May 2015\n",
    "Skills\n",
    "Expert in creating tailored fitness programs.\n",
    "Proficient with digital fitness tracking systems like Fitbit and MyFitnessPal.\n",
    "Excellent communicator with effective client-facing skills.\n",
    "Knowledgeable in body mechanics and functional training.\n",
    "Fluent in Spanish.\n",
    "Professional Affiliations\n",
    "Member, National Strength and Conditioning Association (NSCA)\n",
    "Volunteer, Community Fitness Days, providing free fitness coaching to underprivileged communities\n",
    "References\n",
    "Available upon request.\"\"\"\n",
    "\n",
    "# Assuming 'vectorizer' is already fitted to a relevant corpus\n",
    "tfidf_weights = tfidf.transform([cv_text])\n",
    "reduced_weights = svd.transform(tfidf_weights)"
   ],
   "metadata": {
    "id": "m9khe3K0fbNG"
   },
   "execution_count": 12,
   "outputs": []
  },
  {
   "cell_type": "code",
   "source": [
    "reduced_weights.shape"
   ],
   "metadata": {
    "colab": {
     "base_uri": "https://localhost:8080/"
    },
    "id": "0DppCs6tlVEd",
    "outputId": "fd41daaa-3b8d-401a-8bc4-f12f49af6ed3"
   },
   "execution_count": 13,
   "outputs": [
    {
     "data": {
      "text/plain": "(1, 1200)"
     },
     "execution_count": 13,
     "metadata": {},
     "output_type": "execute_result"
    }
   ]
  },
  {
   "cell_type": "code",
   "source": [
    "for model_name, model in models.items():\n",
    "  label = model.predict(reduced_weights)\n",
    "  decoded_label = le.inverse_transform([label[0]])\n",
    "  print(f\"Decoded label for {model_name}:\", decoded_label)"
   ],
   "metadata": {
    "colab": {
     "base_uri": "https://localhost:8080/"
    },
    "id": "V9hbEoynlLgW",
    "outputId": "aa889ad5-b34b-4b6b-8d0e-3ab930400400"
   },
   "execution_count": 14,
   "outputs": [
    {
     "name": "stdout",
     "output_type": "stream",
     "text": [
      "Decoded label for KNN: ['Health and Fitness']\n",
      "Decoded label for LogisticRegression: ['Health and Fitness']\n",
      "Decoded label for RandomForest: ['Health and Fitness']\n",
      "Decoded label for SVM: ['Health and Fitness']\n"
     ]
    },
    {
     "name": "stderr",
     "output_type": "stream",
     "text": [
      "C:\\anacondaPY3\\lib\\site-packages\\sklearn\\neighbors\\_classification.py:228: FutureWarning: Unlike other reduction functions (e.g. `skew`, `kurtosis`), the default behavior of `mode` typically preserves the axis it acts along. In SciPy 1.11.0, this behavior will change: the default value of `keepdims` will become False, the `axis` over which the statistic is taken will be eliminated, and the value None will no longer be accepted. Set `keepdims` to True or False to avoid this warning.\n",
      "  mode, _ = stats.mode(_y[neigh_ind, k], axis=1)\n"
     ]
    }
   ]
  },
  {
   "cell_type": "markdown",
   "source": [
    "შემდეგ, გავტესტავ ჩემზე და ჩემი მეგობრების სივი-ებზე."
   ],
   "metadata": {
    "id": "XKEmJmmGopDu"
   }
  },
  {
   "cell_type": "code",
   "execution_count": 15,
   "outputs": [],
   "source": [
    "def prepare_weights(text):\n",
    "    tfidf_weights = tfidf.transform([text])\n",
    "    reduced_weights = svd.transform(tfidf_weights)\n",
    "    return reduced_weights\n",
    "def print_model_outputs(weights):\n",
    "    for model_name, model in models.items():\n",
    "      label = model.predict(weights)\n",
    "      decoded_label = le.inverse_transform(label)\n",
    "      print(f\"Decoded label for {model_name}:\", decoded_label)"
   ],
   "metadata": {
    "collapsed": false
   }
  },
  {
   "cell_type": "code",
   "source": [
    "from preprocess.process import prepare\n",
    "path = \"C:/Users/User/Desktop/Nika Mikaberidze.pdf\"\n",
    "def output_everything(path):\n",
    "    text = prepare(path)\n",
    "    weights = prepare_weights(text)\n",
    "    print_model_outputs(weights)\n",
    "    return text"
   ],
   "metadata": {
    "id": "w7HelEPMlSha"
   },
   "execution_count": 16,
   "outputs": []
  },
  {
   "cell_type": "code",
   "execution_count": 17,
   "outputs": [
    {
     "name": "stdout",
     "output_type": "stream",
     "text": [
      "Decoded label for KNN: ['Data Science']\n",
      "Decoded label for LogisticRegression: ['Data Science']\n",
      "Decoded label for RandomForest: ['Data Science']\n",
      "Decoded label for SVM: ['Data Science']\n"
     ]
    },
    {
     "name": "stderr",
     "output_type": "stream",
     "text": [
      "C:\\anacondaPY3\\lib\\site-packages\\sklearn\\neighbors\\_classification.py:228: FutureWarning: Unlike other reduction functions (e.g. `skew`, `kurtosis`), the default behavior of `mode` typically preserves the axis it acts along. In SciPy 1.11.0, this behavior will change: the default value of `keepdims` will become False, the `axis` over which the statistic is taken will be eliminated, and the value None will no longer be accepted. Set `keepdims` to True or False to avoid this warning.\n",
      "  mode, _ = stats.mode(_y[neigh_ind, k], axis=1)\n"
     ]
    }
   ],
   "source": [
    "txt1 = output_everything(path)"
   ],
   "metadata": {
    "collapsed": false
   }
  },
  {
   "cell_type": "code",
   "execution_count": 23,
   "outputs": [
    {
     "name": "stdout",
     "output_type": "stream",
     "text": [
      "Nika Mikaberidze\n",
      "TbilisiGeorgia   10 97 97  \n",
      "EDUCATION\n",
      "Free University Of Tbilisi\n",
      "Tbilisi Georgia\n",
      "Computer And Electrical Engineering\n",
      "Graduation Date Sep \n",
      "WORK EXPERIENCE\n",
      "Supernova AI\n",
      "Tbilisi Georgia\n",
      "Machine Learning Intern NLP\n",
      "\n",
      "Mar \n",
      "Jun \n",
      "Gained valuable exposure to the dynamic field of Data Science and Natural Language Processing broadening my \n",
      "technical expertise and analytical skills\n",
      "Utilized a wide range of data analysis libraries for indepth conversational AI research and contributed to the creation \n",
      "of a comprehensive EnglishGeorgian semantic search database at Supernova AI\n",
      "AI Lab\n",
      "Tbilisi Georgia\n",
      "Junior Data Scientist\n",
      "\n",
      "Jul \n",
      "Present\n",
      "Engaged in extensive AWS toolset applications utilizing SageMaker for iterative model training and S3 for efficient \n",
      "data handling and storage solutions\n",
      "Played a key role in localizing Microsofts TinyStories research adding a Georgian translation layer and adapting \n",
      "27M of English data to Georgian ensuring domainspecific relevance and surpassing Google Translates accuracy in \n",
      "our niche\n",
      "Directed the development of one of the pioneering Georgian Generative AI models adept at crafting original context\n",
      "aware content culminating in a highprofile public showcase\n",
      "PROJECT EXPERIENCE\n",
      "Kutaisi Citython \n",
      "Kutaisi Georgia\n",
      "Bus overcrowding sensors\n",
      "\n",
      "Oct \n",
      "Oct \n",
      "Innovated a solution to manage overcrowding in Kutaisis bus system by integrating blue light sensors establishing a \n",
      "centralized database to monitor bus capacities in realtime\n",
      "Architected and structured an SQL database to support backend integration enabling effective data collection from \n",
      "hardware sensors through ESP modules for comprehensive analysis\n",
      "Devised and trained busspecific predictive models using balanced datasets generated by gpt API achieving toptier \n",
      "accuracy in forecasting overcrowding scenarios with minimal training time enhancing the efficiency of the public \n",
      "transport network\n",
      "AI Lab\n",
      "Tbilisi Georgia\n",
      "Translation Model NMT\n",
      "\n",
      "Aug \n",
      "Nov \n",
      "Evaluated Google Translate using BLEU scores on our dataset determining the need for a custom translation model \n",
      "for English to Georgian\n",
      "Implemented and refined Hugging Faces Trainer API in our pipeline and analyzed data to strategize paragraphby\n",
      "paragraph data input for enhanced translation accuracy\n",
      "Spearheaded extensive opensource data scraping using advanced techniques and employed innovative data \n",
      "augmentation with GPT and Google APIs significantly enriching our training dataset\n",
      "Helped the development and optimization of the training pipeline focusing on parameter experimentation data \n",
      "preprocessing and segmentation based on an indepth understanding of dataset intricacies\n",
      "AI Lab\n",
      "Tbilisi Georgia\n",
      "Georgian generative Model\n",
      "\n",
      "Nov \n",
      "Dec \n",
      "Initiated our project by benchmarking our Georgian Generative model against Seamless M4T Google Translate and \n",
      "Google Sheets API confirming our models superior performance in our domain through rigorous testing\n",
      "Employed KENLM library to compute the perplexity of our model effectively filtering out lowquality queries and \n",
      "refining the dataset as traditional confidence metrics proved inadequate\n",
      "Conducted indepth analysis to prevent overfitting using methodologies from the TinyStories paper including \n",
      "quantitative similarity measurement with Rouge score and thorough evaluation against various model generations\n",
      "Continuously experimented with model generation parameters and input data ensuring the final models high \n",
      "accuracy in story generation mirroring the quality demonstrated in the TinyStories research\n",
      "\n"
     ]
    }
   ],
   "source": [
    "print(txt1)"
   ],
   "metadata": {
    "collapsed": false
   }
  },
  {
   "cell_type": "code",
   "execution_count": 19,
   "outputs": [
    {
     "name": "stdout",
     "output_type": "stream",
     "text": [
      "Decoded label for KNN: ['Data Science']\n",
      "Decoded label for LogisticRegression: ['Information Technology']\n",
      "Decoded label for RandomForest: ['Data Science']\n",
      "Decoded label for SVM: ['Data Science']\n"
     ]
    },
    {
     "name": "stderr",
     "output_type": "stream",
     "text": [
      "C:\\anacondaPY3\\lib\\site-packages\\sklearn\\neighbors\\_classification.py:228: FutureWarning: Unlike other reduction functions (e.g. `skew`, `kurtosis`), the default behavior of `mode` typically preserves the axis it acts along. In SciPy 1.11.0, this behavior will change: the default value of `keepdims` will become False, the `axis` over which the statistic is taken will be eliminated, and the value None will no longer be accepted. Set `keepdims` to True or False to avoid this warning.\n",
      "  mode, _ = stats.mode(_y[neigh_ind, k], axis=1)\n"
     ]
    }
   ],
   "source": [
    "# ეს ჩემი მეგობრის სივია. ერთ-ერთ პუნქტში AI-ზე მუშაობდა, ერთ-ერთში wildfire monitoring-ზე და ერთ-ერთში დატის შეგროვების ამოცანაზე, საბოლოოდ ელ. ინჟინერია, მაგრამ ფაქტია, მოდელი ამას ვერ მიხვდა. თუმცა, მოდელი კი არა, მეც ვერ მივხვდებოდი...\n",
    "path_2 = \"C:/Users/User/Downloads/CV.pdf\"\n",
    "txt2 = output_everything(path_2)"
   ],
   "metadata": {
    "collapsed": false
   }
  },
  {
   "cell_type": "code",
   "execution_count": 24,
   "outputs": [
    {
     "name": "stdout",
     "output_type": "stream",
     "text": [
      "Mariam Rekhviashvili\n",
      "Tbilisi Georgia       Linkedin\n",
      "EDUCATION\n",
      "Free University of Tbilisi\n",
      "Tbilisi\n",
      "Bachelor of Engineering Electric and Computer Engineering\n",
      "Graduation Date Sep \n",
      "PROJECT EXPERIENCE\n",
      "GITA Nasa Space Apps Challenge \n",
      "Tbilisi\n",
      "Wildfire Monitoring System\n",
      "\n",
      "Oct \n",
      "Oct \n",
      "Designed and engineered a hardware solution equipped with multiple sensors including infrared radiation carbon \n",
      "monoxide temperature and humidity sensors to accurately detect and assess wildfire risks in specific environments \n",
      "contributing to early detection and prevention efforts\n",
      "Collaborated with a multidisciplinary team to conceptualize and deploy a sophisticated algorithm that analyzed data \n",
      "from the sensor array to calculate the probability of wildfire occurrences empowering local communities and \n",
      "monitoring groups with actionable insights for proactive fire management and resource allocation\n",
      "GITA Citython \n",
      "Kutaisi\n",
      "Transit Tracer\n",
      "\n",
      "Oct \n",
      "Oct \n",
      "Designed a robust hardware infrastructure incorporating laser sensors to accurately capture and track passenger \n",
      "movement on buses ensuring reliable data collection for subsequent analysis Implemented quality assurance \n",
      "measures to minimize errors and optimize the accuracy and precision of the collected data\n",
      "Collaborated closely with a multidisciplinary team of data scientists backend developers and frontend developers to \n",
      "translate conceptual designs into a functional and scalable solution\n",
      "Business and Technology University\n",
      "Tbilisi\n",
      "Women in AI\n",
      "\n",
      "Feb \n",
      "Nov \n",
      "I am currently participating in the Women in AI project implemented by Business and Technology University with \n",
      "the support of UN Women where I was selected as one of the 50 women This immersive ninemonth program offers \n",
      "a dynamic learning environment where I am enhancing my skills in Python programming data science machine \n",
      "learning and deep learning through monthly projects and weekly lectures\n",
      "SKILLS\n",
      "\n",
      "Skills\n",
      "Programming Languages Java C C Python MATLAB Arduino NI Multisim Proteus Logisim Signal \n",
      "Processing Filter Design Circuit Analysis Digital Circuit Design Data Structures and Algorithms Probability \n",
      "and Statistics Physics Mechanics and Thermodynamics Electricity and Magnetism Optics Calculus Linear \n",
      "Algebra Differential Equations\n",
      "\n"
     ]
    }
   ],
   "source": [
    "print(txt2)"
   ],
   "metadata": {
    "collapsed": false
   }
  },
  {
   "cell_type": "code",
   "execution_count": 21,
   "outputs": [
    {
     "name": "stdout",
     "output_type": "stream",
     "text": [
      "Decoded label for KNN: ['Web Designing']\n",
      "Decoded label for LogisticRegression: ['React Developer']\n",
      "Decoded label for RandomForest: ['Data Science']\n",
      "Decoded label for SVM: ['Data Science']\n"
     ]
    },
    {
     "name": "stderr",
     "output_type": "stream",
     "text": [
      "C:\\anacondaPY3\\lib\\site-packages\\sklearn\\neighbors\\_classification.py:228: FutureWarning: Unlike other reduction functions (e.g. `skew`, `kurtosis`), the default behavior of `mode` typically preserves the axis it acts along. In SciPy 1.11.0, this behavior will change: the default value of `keepdims` will become False, the `axis` over which the statistic is taken will be eliminated, and the value None will no longer be accepted. Set `keepdims` to True or False to avoid this warning.\n",
      "  mode, _ = stats.mode(_y[neigh_ind, k], axis=1)\n"
     ]
    }
   ],
   "source": [
    "# ეს ჩვენი მეგობრის და გუნდელის, ლუკა დარსალიას სივია.\n",
    "path_3 = \"C:/Users/User/Downloads/ML-Resume-2.pdf\"\n",
    "txt3 = output_everything(path_3)"
   ],
   "metadata": {
    "collapsed": false
   }
  },
  {
   "cell_type": "code",
   "execution_count": 25,
   "outputs": [
    {
     "name": "stdout",
     "output_type": "stream",
     "text": [
      "Luka Darsalia\n",
      "   70 06 28 Georgia Tbilisi GitHub \n",
      "Linkedin\n",
      "WORK EXPERIENCE\n",
      "AI Lab\n",
      "Aug   Present\n",
      "ML Engineer\n",
      "Georgia Tbilisi\n",
      "\n",
      "Developed a Georgian Small Language Model SLM with 161M parameters inspired by Microsofts Tiny\n",
      "Stories research achieving superior performance in story generation and QA tasks\n",
      "\n",
      "Engineered a Neural Machine Translation NMT system outperforming Google Translate and other services in\n",
      "accuracy for English to Georgian translations crucial for highquality content creation and localization\n",
      "\n",
      "Pioneered a custom instruction dataset posttranslation enhancing the models conversational abilities and\n",
      "enabling the generation of nuanced culturally relevant tiny stories from prompts\n",
      "Supernovaai\n",
      "Mar   Jun \n",
      "ML Engineer Intern\n",
      "Georgia Tbilisi\n",
      "\n",
      "Developed and implemented a comprehensive data preprocessing pipeline\n",
      "\n",
      "Created a highly accurate Georgian language model for semantic search on an online shopping platform\n",
      "\n",
      "Successfully implemented advanced searching algorithms including Fuzzy Search BM25 and Levenshtein\n",
      "distance on the online shopping platforms semantic search feature\n",
      "PROJECTS\n",
      "Student Marketplace\n",
      "Jun   Jun \n",
      "Search Engine Developer\n",
      "Georgia Tbilisi\n",
      "\n",
      "Developed a hybrid search algorithm for a student marketplace integrating semantic analysis with\n",
      "LSAgenerated word embeddings and rulebased filtering using Levenshtein distance for enhanced search\n",
      "accuracy in Georgian\n",
      "Bank of Georgia Hackathon\n",
      "Dec   Jan \n",
      "ML Engineer\n",
      "Georgia Tbilisi\n",
      "\n",
      "Implemented a semantic analyzer for Georgian at the Bank of Georgia hackathon utilizing FastText\n",
      "embeddings and a Transformerbased model to achieve a 70 F1 score demonstrating significant\n",
      "advancements in natural language processing for the Georgian language\n",
      "EDUCATION\n",
      "Free University of Tbilisi\n",
      "Sep   Sep \n",
      "BS Computer Science\n",
      "Georgia Tbilisi\n",
      "SKILLS  INTERESTS\n",
      "\n",
      "Skills Proficient in Machine Learning AI development and computer science principles with expertise in\n",
      "Python TensorFlow PyTorch and advanced NLP techniques coupled with strong project management and\n",
      "teamwork skills\n",
      "\n",
      "Interests road trips climbing hiking\n",
      "\n"
     ]
    }
   ],
   "source": [
    "print(txt3)"
   ],
   "metadata": {
    "collapsed": false
   }
  },
  {
   "cell_type": "markdown",
   "source": [
    "# საბოლოოდ, ვფიქრობ უკეთესი/სხვა მიდგომებიც არსებობს, ვიდრე უბრალოდ სტატისტიკურად TF-IDF-ით გაკეთება. ამას, შემდეგ ნოუთბუქში ვნახავთ."
   ],
   "metadata": {
    "collapsed": false
   }
  },
  {
   "cell_type": "code",
   "execution_count": 26,
   "outputs": [],
   "source": [
    "for i, item in enumerate([txt1, txt2, txt3]):\n",
    "    with open(f\"CV{i}.txt\", \"w\") as f:\n",
    "        f.write(item)"
   ],
   "metadata": {
    "collapsed": false
   }
  },
  {
   "cell_type": "code",
   "execution_count": null,
   "outputs": [],
   "source": [],
   "metadata": {
    "collapsed": false
   }
  }
 ]
}
